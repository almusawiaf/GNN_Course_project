{
  "cells": [
    {
      "cell_type": "code",
      "execution_count": 1,
      "metadata": {
        "colab": {
          "base_uri": "https://localhost:8080/"
        },
        "id": "Z1-LzBPUIL7i",
        "outputId": "171fe296-aeef-499c-a5c5-e0ef34285a25"
      },
      "outputs": [
        {
          "name": "stdout",
          "output_type": "stream",
          "text": [
            "Requirement already satisfied: scispacy in /lustre/home/almusawiaf/.conda/envs/env_sci_spacy/lib/python3.8/site-packages (0.5.4)\n",
            "Requirement already satisfied: spacy<3.8.0,>=3.7.0 in /lustre/home/almusawiaf/.conda/envs/env_sci_spacy/lib/python3.8/site-packages (from scispacy) (3.7.4)\n",
            "Requirement already satisfied: scipy<1.11 in /lustre/home/almusawiaf/.conda/envs/env_sci_spacy/lib/python3.8/site-packages (from scispacy) (1.10.1)\n",
            "Requirement already satisfied: requests<3.0.0,>=2.0.0 in /lustre/home/almusawiaf/.conda/envs/env_sci_spacy/lib/python3.8/site-packages (from scispacy) (2.31.0)\n",
            "Requirement already satisfied: conllu in /lustre/home/almusawiaf/.conda/envs/env_sci_spacy/lib/python3.8/site-packages (from scispacy) (4.5.3)\n",
            "Requirement already satisfied: numpy in /lustre/home/almusawiaf/.conda/envs/env_sci_spacy/lib/python3.8/site-packages (from scispacy) (1.24.4)\n",
            "Requirement already satisfied: joblib in /lustre/home/almusawiaf/.conda/envs/env_sci_spacy/lib/python3.8/site-packages (from scispacy) (1.3.2)\n",
            "Requirement already satisfied: nmslib>=1.7.3.6 in /lustre/home/almusawiaf/.conda/envs/env_sci_spacy/lib/python3.8/site-packages (from scispacy) (2.1.1)\n",
            "Requirement already satisfied: scikit-learn>=0.20.3 in /lustre/home/almusawiaf/.conda/envs/env_sci_spacy/lib/python3.8/site-packages (from scispacy) (1.3.2)\n",
            "Requirement already satisfied: pysbd in /lustre/home/almusawiaf/.conda/envs/env_sci_spacy/lib/python3.8/site-packages (from scispacy) (0.3.4)\n",
            "Requirement already satisfied: pybind11<2.6.2 in /lustre/home/almusawiaf/.conda/envs/env_sci_spacy/lib/python3.8/site-packages (from nmslib>=1.7.3.6->scispacy) (2.6.1)\n",
            "Requirement already satisfied: psutil in /lustre/home/almusawiaf/.conda/envs/env_sci_spacy/lib/python3.8/site-packages (from nmslib>=1.7.3.6->scispacy) (5.9.0)\n",
            "Requirement already satisfied: charset-normalizer<4,>=2 in /lustre/home/almusawiaf/.conda/envs/env_sci_spacy/lib/python3.8/site-packages (from requests<3.0.0,>=2.0.0->scispacy) (3.3.2)\n",
            "Requirement already satisfied: idna<4,>=2.5 in /lustre/home/almusawiaf/.conda/envs/env_sci_spacy/lib/python3.8/site-packages (from requests<3.0.0,>=2.0.0->scispacy) (3.6)\n",
            "Requirement already satisfied: urllib3<3,>=1.21.1 in /lustre/home/almusawiaf/.conda/envs/env_sci_spacy/lib/python3.8/site-packages (from requests<3.0.0,>=2.0.0->scispacy) (2.2.1)\n",
            "Requirement already satisfied: certifi>=2017.4.17 in /lustre/home/almusawiaf/.conda/envs/env_sci_spacy/lib/python3.8/site-packages (from requests<3.0.0,>=2.0.0->scispacy) (2024.2.2)\n",
            "Requirement already satisfied: threadpoolctl>=2.0.0 in /lustre/home/almusawiaf/.conda/envs/env_sci_spacy/lib/python3.8/site-packages (from scikit-learn>=0.20.3->scispacy) (3.3.0)\n",
            "Requirement already satisfied: spacy-legacy<3.1.0,>=3.0.11 in /lustre/home/almusawiaf/.conda/envs/env_sci_spacy/lib/python3.8/site-packages (from spacy<3.8.0,>=3.7.0->scispacy) (3.0.12)\n",
            "Requirement already satisfied: spacy-loggers<2.0.0,>=1.0.0 in /lustre/home/almusawiaf/.conda/envs/env_sci_spacy/lib/python3.8/site-packages (from spacy<3.8.0,>=3.7.0->scispacy) (1.0.5)\n",
            "Requirement already satisfied: murmurhash<1.1.0,>=0.28.0 in /lustre/home/almusawiaf/.conda/envs/env_sci_spacy/lib/python3.8/site-packages (from spacy<3.8.0,>=3.7.0->scispacy) (1.0.10)\n",
            "Requirement already satisfied: cymem<2.1.0,>=2.0.2 in /lustre/home/almusawiaf/.conda/envs/env_sci_spacy/lib/python3.8/site-packages (from spacy<3.8.0,>=3.7.0->scispacy) (2.0.8)\n",
            "Requirement already satisfied: preshed<3.1.0,>=3.0.2 in /lustre/home/almusawiaf/.conda/envs/env_sci_spacy/lib/python3.8/site-packages (from spacy<3.8.0,>=3.7.0->scispacy) (3.0.9)\n",
            "Requirement already satisfied: thinc<8.3.0,>=8.2.2 in /lustre/home/almusawiaf/.conda/envs/env_sci_spacy/lib/python3.8/site-packages (from spacy<3.8.0,>=3.7.0->scispacy) (8.2.3)\n",
            "Requirement already satisfied: wasabi<1.2.0,>=0.9.1 in /lustre/home/almusawiaf/.conda/envs/env_sci_spacy/lib/python3.8/site-packages (from spacy<3.8.0,>=3.7.0->scispacy) (1.1.2)\n",
            "Requirement already satisfied: srsly<3.0.0,>=2.4.3 in /lustre/home/almusawiaf/.conda/envs/env_sci_spacy/lib/python3.8/site-packages (from spacy<3.8.0,>=3.7.0->scispacy) (2.4.8)\n",
            "Requirement already satisfied: catalogue<2.1.0,>=2.0.6 in /lustre/home/almusawiaf/.conda/envs/env_sci_spacy/lib/python3.8/site-packages (from spacy<3.8.0,>=3.7.0->scispacy) (2.0.10)\n",
            "Requirement already satisfied: weasel<0.4.0,>=0.1.0 in /lustre/home/almusawiaf/.conda/envs/env_sci_spacy/lib/python3.8/site-packages (from spacy<3.8.0,>=3.7.0->scispacy) (0.3.4)\n",
            "Requirement already satisfied: typer<0.10.0,>=0.3.0 in /lustre/home/almusawiaf/.conda/envs/env_sci_spacy/lib/python3.8/site-packages (from spacy<3.8.0,>=3.7.0->scispacy) (0.9.0)\n",
            "Requirement already satisfied: smart-open<7.0.0,>=5.2.1 in /lustre/home/almusawiaf/.conda/envs/env_sci_spacy/lib/python3.8/site-packages (from spacy<3.8.0,>=3.7.0->scispacy) (6.4.0)\n",
            "Requirement already satisfied: tqdm<5.0.0,>=4.38.0 in /lustre/home/almusawiaf/.conda/envs/env_sci_spacy/lib/python3.8/site-packages (from spacy<3.8.0,>=3.7.0->scispacy) (4.66.2)\n",
            "Requirement already satisfied: pydantic!=1.8,!=1.8.1,<3.0.0,>=1.7.4 in /lustre/home/almusawiaf/.conda/envs/env_sci_spacy/lib/python3.8/site-packages (from spacy<3.8.0,>=3.7.0->scispacy) (2.6.4)\n",
            "Requirement already satisfied: jinja2 in /lustre/home/almusawiaf/.conda/envs/env_sci_spacy/lib/python3.8/site-packages (from spacy<3.8.0,>=3.7.0->scispacy) (3.1.3)\n",
            "Requirement already satisfied: setuptools in /lustre/home/almusawiaf/.conda/envs/env_sci_spacy/lib/python3.8/site-packages (from spacy<3.8.0,>=3.7.0->scispacy) (68.2.2)\n",
            "Requirement already satisfied: packaging>=20.0 in /lustre/home/almusawiaf/.conda/envs/env_sci_spacy/lib/python3.8/site-packages (from spacy<3.8.0,>=3.7.0->scispacy) (24.0)\n",
            "Requirement already satisfied: langcodes<4.0.0,>=3.2.0 in /lustre/home/almusawiaf/.conda/envs/env_sci_spacy/lib/python3.8/site-packages (from spacy<3.8.0,>=3.7.0->scispacy) (3.3.0)\n",
            "Requirement already satisfied: annotated-types>=0.4.0 in /lustre/home/almusawiaf/.conda/envs/env_sci_spacy/lib/python3.8/site-packages (from pydantic!=1.8,!=1.8.1,<3.0.0,>=1.7.4->spacy<3.8.0,>=3.7.0->scispacy) (0.6.0)\n",
            "Requirement already satisfied: pydantic-core==2.16.3 in /lustre/home/almusawiaf/.conda/envs/env_sci_spacy/lib/python3.8/site-packages (from pydantic!=1.8,!=1.8.1,<3.0.0,>=1.7.4->spacy<3.8.0,>=3.7.0->scispacy) (2.16.3)\n",
            "Requirement already satisfied: typing-extensions>=4.6.1 in /lustre/home/almusawiaf/.conda/envs/env_sci_spacy/lib/python3.8/site-packages (from pydantic!=1.8,!=1.8.1,<3.0.0,>=1.7.4->spacy<3.8.0,>=3.7.0->scispacy) (4.10.0)\n",
            "Requirement already satisfied: blis<0.8.0,>=0.7.8 in /lustre/home/almusawiaf/.conda/envs/env_sci_spacy/lib/python3.8/site-packages (from thinc<8.3.0,>=8.2.2->spacy<3.8.0,>=3.7.0->scispacy) (0.7.11)\n",
            "Requirement already satisfied: confection<1.0.0,>=0.0.1 in /lustre/home/almusawiaf/.conda/envs/env_sci_spacy/lib/python3.8/site-packages (from thinc<8.3.0,>=8.2.2->spacy<3.8.0,>=3.7.0->scispacy) (0.1.4)\n",
            "Requirement already satisfied: click<9.0.0,>=7.1.1 in /lustre/home/almusawiaf/.conda/envs/env_sci_spacy/lib/python3.8/site-packages (from typer<0.10.0,>=0.3.0->spacy<3.8.0,>=3.7.0->scispacy) (8.1.7)\n",
            "Requirement already satisfied: cloudpathlib<0.17.0,>=0.7.0 in /lustre/home/almusawiaf/.conda/envs/env_sci_spacy/lib/python3.8/site-packages (from weasel<0.4.0,>=0.1.0->spacy<3.8.0,>=3.7.0->scispacy) (0.16.0)\n",
            "Requirement already satisfied: MarkupSafe>=2.0 in /lustre/home/almusawiaf/.conda/envs/env_sci_spacy/lib/python3.8/site-packages (from jinja2->spacy<3.8.0,>=3.7.0->scispacy) (2.1.5)\n",
            "Requirement already satisfied: spacy in /lustre/home/almusawiaf/.conda/envs/env_sci_spacy/lib/python3.8/site-packages (3.7.4)\n",
            "Requirement already satisfied: spacy-legacy<3.1.0,>=3.0.11 in /lustre/home/almusawiaf/.conda/envs/env_sci_spacy/lib/python3.8/site-packages (from spacy) (3.0.12)\n",
            "Requirement already satisfied: spacy-loggers<2.0.0,>=1.0.0 in /lustre/home/almusawiaf/.conda/envs/env_sci_spacy/lib/python3.8/site-packages (from spacy) (1.0.5)\n",
            "Requirement already satisfied: murmurhash<1.1.0,>=0.28.0 in /lustre/home/almusawiaf/.conda/envs/env_sci_spacy/lib/python3.8/site-packages (from spacy) (1.0.10)\n",
            "Requirement already satisfied: cymem<2.1.0,>=2.0.2 in /lustre/home/almusawiaf/.conda/envs/env_sci_spacy/lib/python3.8/site-packages (from spacy) (2.0.8)\n",
            "Requirement already satisfied: preshed<3.1.0,>=3.0.2 in /lustre/home/almusawiaf/.conda/envs/env_sci_spacy/lib/python3.8/site-packages (from spacy) (3.0.9)\n",
            "Requirement already satisfied: thinc<8.3.0,>=8.2.2 in /lustre/home/almusawiaf/.conda/envs/env_sci_spacy/lib/python3.8/site-packages (from spacy) (8.2.3)\n",
            "Requirement already satisfied: wasabi<1.2.0,>=0.9.1 in /lustre/home/almusawiaf/.conda/envs/env_sci_spacy/lib/python3.8/site-packages (from spacy) (1.1.2)\n",
            "Requirement already satisfied: srsly<3.0.0,>=2.4.3 in /lustre/home/almusawiaf/.conda/envs/env_sci_spacy/lib/python3.8/site-packages (from spacy) (2.4.8)\n",
            "Requirement already satisfied: catalogue<2.1.0,>=2.0.6 in /lustre/home/almusawiaf/.conda/envs/env_sci_spacy/lib/python3.8/site-packages (from spacy) (2.0.10)\n",
            "Requirement already satisfied: weasel<0.4.0,>=0.1.0 in /lustre/home/almusawiaf/.conda/envs/env_sci_spacy/lib/python3.8/site-packages (from spacy) (0.3.4)\n",
            "Requirement already satisfied: typer<0.10.0,>=0.3.0 in /lustre/home/almusawiaf/.conda/envs/env_sci_spacy/lib/python3.8/site-packages (from spacy) (0.9.0)\n",
            "Requirement already satisfied: smart-open<7.0.0,>=5.2.1 in /lustre/home/almusawiaf/.conda/envs/env_sci_spacy/lib/python3.8/site-packages (from spacy) (6.4.0)\n",
            "Requirement already satisfied: tqdm<5.0.0,>=4.38.0 in /lustre/home/almusawiaf/.conda/envs/env_sci_spacy/lib/python3.8/site-packages (from spacy) (4.66.2)\n",
            "Requirement already satisfied: requests<3.0.0,>=2.13.0 in /lustre/home/almusawiaf/.conda/envs/env_sci_spacy/lib/python3.8/site-packages (from spacy) (2.31.0)\n",
            "Requirement already satisfied: pydantic!=1.8,!=1.8.1,<3.0.0,>=1.7.4 in /lustre/home/almusawiaf/.conda/envs/env_sci_spacy/lib/python3.8/site-packages (from spacy) (2.6.4)\n",
            "Requirement already satisfied: jinja2 in /lustre/home/almusawiaf/.conda/envs/env_sci_spacy/lib/python3.8/site-packages (from spacy) (3.1.3)\n",
            "Requirement already satisfied: setuptools in /lustre/home/almusawiaf/.conda/envs/env_sci_spacy/lib/python3.8/site-packages (from spacy) (68.2.2)\n",
            "Requirement already satisfied: packaging>=20.0 in /lustre/home/almusawiaf/.conda/envs/env_sci_spacy/lib/python3.8/site-packages (from spacy) (24.0)\n",
            "Requirement already satisfied: langcodes<4.0.0,>=3.2.0 in /lustre/home/almusawiaf/.conda/envs/env_sci_spacy/lib/python3.8/site-packages (from spacy) (3.3.0)\n",
            "Requirement already satisfied: numpy>=1.15.0 in /lustre/home/almusawiaf/.conda/envs/env_sci_spacy/lib/python3.8/site-packages (from spacy) (1.24.4)\n",
            "Requirement already satisfied: annotated-types>=0.4.0 in /lustre/home/almusawiaf/.conda/envs/env_sci_spacy/lib/python3.8/site-packages (from pydantic!=1.8,!=1.8.1,<3.0.0,>=1.7.4->spacy) (0.6.0)\n",
            "Requirement already satisfied: pydantic-core==2.16.3 in /lustre/home/almusawiaf/.conda/envs/env_sci_spacy/lib/python3.8/site-packages (from pydantic!=1.8,!=1.8.1,<3.0.0,>=1.7.4->spacy) (2.16.3)\n",
            "Requirement already satisfied: typing-extensions>=4.6.1 in /lustre/home/almusawiaf/.conda/envs/env_sci_spacy/lib/python3.8/site-packages (from pydantic!=1.8,!=1.8.1,<3.0.0,>=1.7.4->spacy) (4.10.0)\n",
            "Requirement already satisfied: charset-normalizer<4,>=2 in /lustre/home/almusawiaf/.conda/envs/env_sci_spacy/lib/python3.8/site-packages (from requests<3.0.0,>=2.13.0->spacy) (3.3.2)\n",
            "Requirement already satisfied: idna<4,>=2.5 in /lustre/home/almusawiaf/.conda/envs/env_sci_spacy/lib/python3.8/site-packages (from requests<3.0.0,>=2.13.0->spacy) (3.6)\n",
            "Requirement already satisfied: urllib3<3,>=1.21.1 in /lustre/home/almusawiaf/.conda/envs/env_sci_spacy/lib/python3.8/site-packages (from requests<3.0.0,>=2.13.0->spacy) (2.2.1)\n",
            "Requirement already satisfied: certifi>=2017.4.17 in /lustre/home/almusawiaf/.conda/envs/env_sci_spacy/lib/python3.8/site-packages (from requests<3.0.0,>=2.13.0->spacy) (2024.2.2)\n",
            "Requirement already satisfied: blis<0.8.0,>=0.7.8 in /lustre/home/almusawiaf/.conda/envs/env_sci_spacy/lib/python3.8/site-packages (from thinc<8.3.0,>=8.2.2->spacy) (0.7.11)\n",
            "Requirement already satisfied: confection<1.0.0,>=0.0.1 in /lustre/home/almusawiaf/.conda/envs/env_sci_spacy/lib/python3.8/site-packages (from thinc<8.3.0,>=8.2.2->spacy) (0.1.4)\n",
            "Requirement already satisfied: click<9.0.0,>=7.1.1 in /lustre/home/almusawiaf/.conda/envs/env_sci_spacy/lib/python3.8/site-packages (from typer<0.10.0,>=0.3.0->spacy) (8.1.7)\n",
            "Requirement already satisfied: cloudpathlib<0.17.0,>=0.7.0 in /lustre/home/almusawiaf/.conda/envs/env_sci_spacy/lib/python3.8/site-packages (from weasel<0.4.0,>=0.1.0->spacy) (0.16.0)\n",
            "Requirement already satisfied: MarkupSafe>=2.0 in /lustre/home/almusawiaf/.conda/envs/env_sci_spacy/lib/python3.8/site-packages (from jinja2->spacy) (2.1.5)\n"
          ]
        }
      ],
      "source": [
        "!pip install scispacy\n",
        "!pip install spacy"
      ]
    },
    {
      "cell_type": "code",
      "execution_count": 2,
      "metadata": {
        "colab": {
          "base_uri": "https://localhost:8080/"
        },
        "id": "yoPmr30FKb30",
        "outputId": "54fac83b-73b9-4fe4-9bd9-5b3ebbf1441f"
      },
      "outputs": [],
      "source": [
        "# !pip install /content/en_ner_bc5cdr_md-0.5.3.tar.gz"
      ]
    },
    {
      "cell_type": "code",
      "execution_count": null,
      "metadata": {},
      "outputs": [],
      "source": [
        "import pandas as pd\n",
        "import spacy\n",
        "import scispacy"
      ]
    },
    {
      "cell_type": "code",
      "execution_count": 9,
      "metadata": {
        "colab": {
          "base_uri": "https://localhost:8080/",
          "height": 356
        },
        "id": "2RSFTS7oLkmz",
        "outputId": "64027742-a87d-4bf3-bac3-e0a6bfe11a03"
      },
      "outputs": [
        {
          "name": "stderr",
          "output_type": "stream",
          "text": [
            "/tmp/ipykernel_4177048/2094511187.py:6: DtypeWarning: Columns (4,5) have mixed types. Specify dtype option on import or set low_memory=False.\n",
            "  clinical_notes = pd.read_csv(\"../../Data/MIMIC_resources/NOTEEVENTS.csv\")\n"
          ]
        }
      ],
      "source": [
        "spacy.prefer_gpu()\n",
        "# Load the spaCy model\n",
        "nlp = spacy.load(\"en_ner_bc5cdr_md\")\n",
        "\n",
        "# Load the clinical notes\n",
        "clinical_notes = pd.read_csv(\"../../Data/MIMIC_resources/NOTEEVENTS.csv\")"
      ]
    },
    {
      "cell_type": "code",
      "execution_count": 10,
      "metadata": {
        "id": "796iLR149Haf"
      },
      "outputs": [],
      "source": [
        "test_notes = clinical_notes.head(5)"
      ]
    },
    {
      "cell_type": "code",
      "execution_count": 11,
      "metadata": {
        "id": "JDkMk36a6t-Q"
      },
      "outputs": [
        {
          "name": "stderr",
          "output_type": "stream",
          "text": [
            "/tmp/ipykernel_4177048/1699591233.py:12: SettingWithCopyWarning: \n",
            "A value is trying to be set on a copy of a slice from a DataFrame.\n",
            "Try using .loc[row_indexer,col_indexer] = value instead\n",
            "\n",
            "See the caveats in the documentation: https://pandas.pydata.org/pandas-docs/stable/user_guide/indexing.html#returning-a-view-versus-a-copy\n",
            "  test_notes['Modified_Note'] = test_notes['TEXT'].apply(modify_note)\n"
          ]
        },
        {
          "data": {
            "text/html": [
              "<div>\n",
              "<style scoped>\n",
              "    .dataframe tbody tr th:only-of-type {\n",
              "        vertical-align: middle;\n",
              "    }\n",
              "\n",
              "    .dataframe tbody tr th {\n",
              "        vertical-align: top;\n",
              "    }\n",
              "\n",
              "    .dataframe thead th {\n",
              "        text-align: right;\n",
              "    }\n",
              "</style>\n",
              "<table border=\"1\" class=\"dataframe\">\n",
              "  <thead>\n",
              "    <tr style=\"text-align: right;\">\n",
              "      <th></th>\n",
              "      <th>ROW_ID</th>\n",
              "      <th>SUBJECT_ID</th>\n",
              "      <th>HADM_ID</th>\n",
              "      <th>CHARTDATE</th>\n",
              "      <th>CHARTTIME</th>\n",
              "      <th>STORETIME</th>\n",
              "      <th>CATEGORY</th>\n",
              "      <th>DESCRIPTION</th>\n",
              "      <th>CGID</th>\n",
              "      <th>ISERROR</th>\n",
              "      <th>TEXT</th>\n",
              "      <th>Modified_Note</th>\n",
              "    </tr>\n",
              "  </thead>\n",
              "  <tbody>\n",
              "    <tr>\n",
              "      <th>0</th>\n",
              "      <td>174</td>\n",
              "      <td>22532</td>\n",
              "      <td>167853.0</td>\n",
              "      <td>2151-08-04</td>\n",
              "      <td>NaN</td>\n",
              "      <td>NaN</td>\n",
              "      <td>Discharge summary</td>\n",
              "      <td>Report</td>\n",
              "      <td>NaN</td>\n",
              "      <td>NaN</td>\n",
              "      <td>Admission Date:  [**2151-7-16**]       Dischar...</td>\n",
              "      <td>Admission Date:  [**2151-7-16**]       Dischar...</td>\n",
              "    </tr>\n",
              "    <tr>\n",
              "      <th>1</th>\n",
              "      <td>175</td>\n",
              "      <td>13702</td>\n",
              "      <td>107527.0</td>\n",
              "      <td>2118-06-14</td>\n",
              "      <td>NaN</td>\n",
              "      <td>NaN</td>\n",
              "      <td>Discharge summary</td>\n",
              "      <td>Report</td>\n",
              "      <td>NaN</td>\n",
              "      <td>NaN</td>\n",
              "      <td>Admission Date:  [**2118-6-2**]       Discharg...</td>\n",
              "      <td>Admission Date:  [**2118-6-2**]       Discharg...</td>\n",
              "    </tr>\n",
              "    <tr>\n",
              "      <th>2</th>\n",
              "      <td>176</td>\n",
              "      <td>13702</td>\n",
              "      <td>167118.0</td>\n",
              "      <td>2119-05-25</td>\n",
              "      <td>NaN</td>\n",
              "      <td>NaN</td>\n",
              "      <td>Discharge summary</td>\n",
              "      <td>Report</td>\n",
              "      <td>NaN</td>\n",
              "      <td>NaN</td>\n",
              "      <td>Admission Date:  [**2119-5-4**]              D...</td>\n",
              "      <td>Admission Date:  [**2119-5-4**]              D...</td>\n",
              "    </tr>\n",
              "    <tr>\n",
              "      <th>3</th>\n",
              "      <td>177</td>\n",
              "      <td>13702</td>\n",
              "      <td>196489.0</td>\n",
              "      <td>2124-08-18</td>\n",
              "      <td>NaN</td>\n",
              "      <td>NaN</td>\n",
              "      <td>Discharge summary</td>\n",
              "      <td>Report</td>\n",
              "      <td>NaN</td>\n",
              "      <td>NaN</td>\n",
              "      <td>Admission Date:  [**2124-7-21**]              ...</td>\n",
              "      <td>Admission Date:  [**2124-7-21**]              ...</td>\n",
              "    </tr>\n",
              "    <tr>\n",
              "      <th>4</th>\n",
              "      <td>178</td>\n",
              "      <td>26880</td>\n",
              "      <td>135453.0</td>\n",
              "      <td>2162-03-25</td>\n",
              "      <td>NaN</td>\n",
              "      <td>NaN</td>\n",
              "      <td>Discharge summary</td>\n",
              "      <td>Report</td>\n",
              "      <td>NaN</td>\n",
              "      <td>NaN</td>\n",
              "      <td>Admission Date:  [**2162-3-3**]              D...</td>\n",
              "      <td>Admission Date:  [**2162-3-3**]              D...</td>\n",
              "    </tr>\n",
              "  </tbody>\n",
              "</table>\n",
              "</div>"
            ],
            "text/plain": [
              "   ROW_ID  SUBJECT_ID   HADM_ID   CHARTDATE CHARTTIME STORETIME  \\\n",
              "0     174       22532  167853.0  2151-08-04       NaN       NaN   \n",
              "1     175       13702  107527.0  2118-06-14       NaN       NaN   \n",
              "2     176       13702  167118.0  2119-05-25       NaN       NaN   \n",
              "3     177       13702  196489.0  2124-08-18       NaN       NaN   \n",
              "4     178       26880  135453.0  2162-03-25       NaN       NaN   \n",
              "\n",
              "            CATEGORY DESCRIPTION  CGID  ISERROR  \\\n",
              "0  Discharge summary      Report   NaN      NaN   \n",
              "1  Discharge summary      Report   NaN      NaN   \n",
              "2  Discharge summary      Report   NaN      NaN   \n",
              "3  Discharge summary      Report   NaN      NaN   \n",
              "4  Discharge summary      Report   NaN      NaN   \n",
              "\n",
              "                                                TEXT  \\\n",
              "0  Admission Date:  [**2151-7-16**]       Dischar...   \n",
              "1  Admission Date:  [**2118-6-2**]       Discharg...   \n",
              "2  Admission Date:  [**2119-5-4**]              D...   \n",
              "3  Admission Date:  [**2124-7-21**]              ...   \n",
              "4  Admission Date:  [**2162-3-3**]              D...   \n",
              "\n",
              "                                       Modified_Note  \n",
              "0  Admission Date:  [**2151-7-16**]       Dischar...  \n",
              "1  Admission Date:  [**2118-6-2**]       Discharg...  \n",
              "2  Admission Date:  [**2119-5-4**]              D...  \n",
              "3  Admission Date:  [**2124-7-21**]              ...  \n",
              "4  Admission Date:  [**2162-3-3**]              D...  "
            ]
          },
          "execution_count": 11,
          "metadata": {},
          "output_type": "execute_result"
        }
      ],
      "source": [
        "# Function to modify the note\n",
        "def modify_note(note):\n",
        "    doc = nlp(note)\n",
        "    modified_text = note\n",
        "    for ent in doc.ents:\n",
        "        if ent.label_ == 'DISEASE':\n",
        "            # Replace the text in the original note with 'X' characters using the entity's span\n",
        "            modified_text = modified_text[:ent.start_char] + 'X' * (ent.end_char - ent.start_char) + modified_text[ent.end_char:]\n",
        "    return modified_text\n",
        "\n",
        "# Apply the modification function to the entire clinical_notes dataframe\n",
        "test_notes['Modified_Note'] = test_notes['TEXT'].apply(modify_note)\n",
        "# clinical_notes['Modified_Note'] = clinical_notes['TEXT'].apply(modify_note)\n",
        "test_notes"
      ]
    }
  ],
  "metadata": {
    "colab": {
      "provenance": []
    },
    "kernelspec": {
      "display_name": "Python 3",
      "name": "python3"
    },
    "language_info": {
      "codemirror_mode": {
        "name": "ipython",
        "version": 3
      },
      "file_extension": ".py",
      "mimetype": "text/x-python",
      "name": "python",
      "nbconvert_exporter": "python",
      "pygments_lexer": "ipython3",
      "version": "3.8.18"
    }
  },
  "nbformat": 4,
  "nbformat_minor": 0
}
