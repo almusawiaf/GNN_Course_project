{
 "cells": [
  {
   "cell_type": "code",
   "execution_count": null,
   "metadata": {},
   "outputs": [],
   "source": [
    "!pip install spacy\n",
    "!python -m spacy download en_core_web_sm\n",
    "\n",
    "!pip install scispacy\n",
    "!pip install https://s3-us-west-2.amazonaws.com/ai2-s2-scispacy/releases/v0.4.0/en_core_sci_sm-0.4.0.tar.gz"
   ]
  },
  {
   "cell_type": "code",
   "execution_count": null,
   "metadata": {},
   "outputs": [],
   "source": [
    "import spacy\n",
    "# For a general-purpose spaCy model\n",
    "# nlp = spacy.load(\"en_core_web_sm\")\n",
    "\n",
    "# ****************************************************************************************************\n",
    "# For a SciSpaCy model\n",
    "import scispacy\n",
    "nlp = spacy.load(\"en_core_sci_sm\")\n",
    "\n",
    "# ****************************************************************************************************\n",
    "text = \"\"\"Patient shows signs of Type 2 Diabetes Mellitus and hypertension.\n",
    "Recommend further tests to confirm Chronic Kidney Disease (CKD) stage 2.\"\"\"\n",
    "\n",
    "doc = nlp(text)\n",
    "\n",
    "# ****************************************************************************************************\n",
    "diagnoses = []\n",
    "for ent in doc.ents:\n",
    "    if ent.label_ in [\"DISEASE\", \"ILLNESS\"]:  # Adapt these labels based on your model's documentation\n",
    "        diagnoses.append((ent.start_char, ent.end_char))\n",
    "\n",
    "# ****************************************************************************************************\n",
    "cleaned_text = \"\"\n",
    "last_idx = 0\n",
    "for start, end in diagnoses:\n",
    "    cleaned_text += text[last_idx:start]  # Add text up to the diagnosis\n",
    "    last_idx = end  # Update the last index to the end of the diagnosis\n",
    "\n",
    "cleaned_text += text[last_idx:]  # Add any remaining text after the last diagnosis\n"
   ]
  },
  {
   "cell_type": "code",
   "execution_count": null,
   "metadata": {},
   "outputs": [],
   "source": [
    "from transformers import AutoModelForTokenClassification, AutoTokenizer, pipeline\n",
    "\n",
    "def split_text(text, chunk_size=512):\n",
    "    # Splits the text into chunks of up to `chunk_size` characters\n",
    "    return [text[i:i+chunk_size] for i in range(0, len(text), chunk_size)]\n",
    "\n",
    "# Initialize the model and tokenizer\n",
    "model_name = \"emilyalsentzer/Bio_ClinicalBERT\"  # Replace with your model's name\n",
    "tokenizer = AutoTokenizer.from_pretrained(model_name)\n",
    "model = AutoModelForTokenClassification.from_pretrained(model_name)\n",
    "ner_pipeline = pipeline(\"ner\", model=model, tokenizer=tokenizer)\n",
    "\n",
    "# Your original clinical note text\n",
    "text = clin_notes[0]  # Assuming clin_notes[0] is a string containing the clinical note\n",
    "\n",
    "# Split the text into manageable chunks\n",
    "chunks = split_text(text, 128)  # You might adjust chunk_size based on your needs\n",
    "\n",
    "# Process each chunk and collect results\n",
    "all_results = []\n",
    "for chunk in chunks:\n",
    "    chunk_results = ner_pipeline(chunk)\n",
    "    all_results.extend(chunk_results)\n",
    "\n",
    "# Filter results to get only diagnoses (replace 'Your_Diagnosis_Entity_Label' with actual label)\n",
    "diagnoses = [result for result in all_results if result['entity'] == 'Your_Diagnosis_Entity_Label']\n",
    "\n",
    "# Print out the diagnoses found\n",
    "for diagnosis in diagnoses:\n",
    "    print(f\"Diagnosis: {diagnosis['word']}, Score: {diagnosis['score']}\")\n",
    "\n"
   ]
  }
 ],
 "metadata": {
  "kernelspec": {
   "display_name": "envGNN",
   "language": "python",
   "name": "python3"
  },
  "language_info": {
   "codemirror_mode": {
    "name": "ipython",
    "version": 3
   },
   "file_extension": ".py",
   "mimetype": "text/x-python",
   "name": "python",
   "nbconvert_exporter": "python",
   "pygments_lexer": "ipython3",
   "version": "3.8.18"
  }
 },
 "nbformat": 4,
 "nbformat_minor": 2
}
