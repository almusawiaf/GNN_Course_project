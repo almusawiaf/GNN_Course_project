{
 "cells": [
  {
   "cell_type": "code",
   "execution_count": 1,
   "metadata": {},
   "outputs": [
    {
     "name": "stderr",
     "output_type": "stream",
     "text": [
      "/lustre/home/almusawiaf/.conda/envs/env_sci_spacy/lib/python3.8/site-packages/spacy/language.py:2195: FutureWarning: Possible set union at position 6328\n",
      "  deserializers[\"tokenizer\"] = lambda p: self.tokenizer.from_disk(  # type: ignore[union-attr]\n",
      "/tmp/ipykernel_4190467/1292296167.py:21: DtypeWarning: Columns (4,5) have mixed types. Specify dtype option on import or set low_memory=False.\n",
      "  clinical_notes = pd.read_csv(\"../../Data/MIMIC_resources/NOTEEVENTS.csv\")\n"
     ]
    },
    {
     "name": "stdout",
     "output_type": "stream",
     "text": [
      "Mission accomplished!\n"
     ]
    }
   ],
   "source": [
    "import pandas as pd\n",
    "import spacy\n",
    "import scispacy\n",
    "\n",
    "spacy.prefer_gpu()\n",
    "# Load the spaCy model\n",
    "nlp = spacy.load(\"en_ner_bc5cdr_md\")\n",
    "\n",
    "# Define the function that will be applied to each batch of documents\n",
    "def modify_text_in_docs(docs):\n",
    "    modified_texts = []\n",
    "    for doc in docs:\n",
    "        modified_text = doc.text\n",
    "        for ent in doc.ents:\n",
    "            if ent.label_ == 'DISEASE':\n",
    "                modified_text = modified_text[:ent.start_char] + 'X' * (ent.end_char - ent.start_char) + modified_text[ent.end_char:]\n",
    "        modified_texts.append(modified_text)\n",
    "    return modified_texts\n",
    "\n",
    "# Load the clinical notes DataFrame\n",
    "clinical_notes = pd.read_csv(\"../../Data/MIMIC_resources/NOTEEVENTS.csv\")\n",
    "\n",
    "# Processing a subset for demonstration; adjust as needed\n",
    "test_notes = clinical_notes.head(100).copy()  # Create an explicit copy to avoid SettingWithCopyWarning\n",
    "\n",
    "# Process the text data in batches using spaCy's nlp.pipe\n",
    "modified_texts = []\n",
    "for doc in nlp.pipe(test_notes['TEXT'], batch_size=20):\n",
    "    modified_text = doc.text\n",
    "    for ent in doc.ents:\n",
    "        if ent.label_ == 'DISEASE':\n",
    "            # Replace detected disease entities with 'X' characters\n",
    "            modified_text = modified_text[:ent.start_char] + 'X' * (ent.end_char - ent.start_char) + modified_text[ent.end_char:]\n",
    "    modified_texts.append(modified_text)\n",
    "\n",
    "# Safely assign the modified texts to a new column in the DataFrame\n",
    "test_notes['modified_text'] = modified_texts  # This is now safe as we're working with a copy\n",
    "\n",
    "# Save the DataFrame with the modified notes to a new CSV file\n",
    "test_notes.to_csv(\"../../Data/MIMIC_resources/MODIFIED_NOTEEVENTS.csv\", index=False)\n",
    "\n",
    "print('Mission accomplished!')"
   ]
  }
 ],
 "metadata": {
  "kernelspec": {
   "display_name": "env_sci_spacy",
   "language": "python",
   "name": "python3"
  },
  "language_info": {
   "codemirror_mode": {
    "name": "ipython",
    "version": 3
   },
   "file_extension": ".py",
   "mimetype": "text/x-python",
   "name": "python",
   "nbconvert_exporter": "python",
   "pygments_lexer": "ipython3",
   "version": "3.8.18"
  }
 },
 "nbformat": 4,
 "nbformat_minor": 2
}
