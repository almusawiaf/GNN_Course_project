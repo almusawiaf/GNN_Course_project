{
 "cells": [
  {
   "cell_type": "code",
   "execution_count": 1,
   "metadata": {},
   "outputs": [],
   "source": [
    "import pandas as pd\n",
    "import numpy as np\n",
    "import networkx as nx \n",
    "import random\n",
    "import torch"
   ]
  },
  {
   "cell_type": "code",
   "execution_count": 3,
   "metadata": {},
   "outputs": [],
   "source": [
    "\n",
    "def reading_pickle(n):\n",
    "    with open(f'{n}', 'rb') as f:\n",
    "        data = pd.read_pickle(f)\n",
    "    # numpy_array = np.array(data)\n",
    "    return data\n",
    "\n",
    "def plot_dict_as_bar(dict_data, x_label, y_label, title):\n",
    "    import matplotlib.pyplot as plt\n",
    "    from matplotlib.colors import LinearSegmentedColormap\n",
    "    \n",
    "    # Extract keys (items) and values (degrees) from the dictionary\n",
    "    items = list(dict_data.keys())\n",
    "    degrees = list(dict_data.values())\n",
    "\n",
    "    # Create a bar plot\n",
    "    plt.figure(figsize=(10, 6))  # Optional: Adjust the figure size\n",
    "    plt.bar(items, degrees)\n",
    "    plt.xlabel(x_label)\n",
    "    plt.ylabel(y_label)\n",
    "    plt.title(title)\n",
    "    plt.xticks(rotation=90)  # Optional: Rotate x-axis labels for readability\n",
    "    \n",
    "    plt.tight_layout()  # Optional: Ensure labels fit within the figure boundaries\n",
    "    plt.show()\n"
   ]
  },
  {
   "cell_type": "code",
   "execution_count": 4,
   "metadata": {},
   "outputs": [
    {
     "name": "stdout",
     "output_type": "stream",
     "text": [
      "reading the following\n",
      "1- Patients = 10064\n",
      "2- Visits = 13620\n",
      "3- Medication = 364\n",
      "4- Diagnosis = 8\n",
      "5- Procedures = 88\n",
      "\n",
      "Total = 24144, Nodes = 24144\n"
     ]
    }
   ],
   "source": [
    "G     = nx.read_gml(f'results/the_complete_hetero_graph2.gml')\n",
    "# with open('results/Nodes.pkl', 'rb') as file:\n",
    "#     Nodes = pickle.load(file)\n",
    "\n",
    "data_path = 'results/Nodes'\n",
    "Patients    = reading_pickle(f'{data_path}/patients.pkl')\n",
    "Visits      = reading_pickle(f'{data_path}/visits.pkl')\n",
    "Medications = reading_pickle(f'{data_path}/medication.pkl')\n",
    "Diagnosis   = reading_pickle(f'{data_path}/diagnosis.pkl')\n",
    "Procedures  = reading_pickle(f'{data_path}/procedures.pkl')\n",
    "print(f'reading the following\\n1- Patients = {len(Patients)}\\n2- Visits = {len(Visits)}\\n3- Medication = {len(Medications)}\\n4- Diagnosis = {len(Diagnosis)}\\n5- Procedures = {len(Procedures)}\\n')\n",
    "# ---------------------------------------------------------------\n",
    "\n",
    "Nodes = Patients + Visits + Medications + Diagnosis  + Procedures\n",
    "# ---------------------------------------------------------------\n",
    "print(f'Total = {len(Nodes)}, Nodes = {len(G.nodes())}')"
   ]
  },
  {
   "cell_type": "code",
   "execution_count": 5,
   "metadata": {},
   "outputs": [
    {
     "data": {
      "text/plain": [
       "(24144, 8)"
      ]
     },
     "execution_count": 5,
     "metadata": {},
     "output_type": "execute_result"
    }
   ],
   "source": [
    "# Generating_Y\n",
    "Diagnosis_index = {d: i for i, d in enumerate(Diagnosis)}\n",
    "\n",
    "def get_label(node, G):\n",
    "    d = [0] * len(Diagnosis_index)\n",
    "    Visits = G.neighbors(node)\n",
    "    node_diagnosis = []\n",
    "    for v in Visits:\n",
    "        node_diagnosis.extend([dd for dd in G.neighbors(v) if dd[0]=='D'])\n",
    "    \n",
    "    for dd in set(node_diagnosis):\n",
    "        d[Diagnosis_index[dd]] = 1\n",
    "    return d\n",
    "\n",
    "labels = [get_label(n, G) for n in Nodes]\n",
    "Y = np.array(labels)\n",
    "Y.shape\n",
    "\n"
   ]
  },
  {
   "cell_type": "code",
   "execution_count": 6,
   "metadata": {},
   "outputs": [],
   "source": [
    "torch.save(Y, 'results/Y.pt')"
   ]
  }
 ],
 "metadata": {
  "kernelspec": {
   "display_name": "envGNN",
   "language": "python",
   "name": "python3"
  },
  "language_info": {
   "codemirror_mode": {
    "name": "ipython",
    "version": 3
   },
   "file_extension": ".py",
   "mimetype": "text/x-python",
   "name": "python",
   "nbconvert_exporter": "python",
   "pygments_lexer": "ipython3",
   "version": "3.8.18"
  }
 },
 "nbformat": 4,
 "nbformat_minor": 2
}
