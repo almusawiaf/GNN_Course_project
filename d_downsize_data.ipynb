{
 "cells": [
  {
   "cell_type": "markdown",
   "metadata": {},
   "source": [
    "# Downsize the DATA!!\n",
    "\n",
    "- The idea here is to sample subset of patients and their visits for diagnostic prediction."
   ]
  },
  {
   "cell_type": "code",
   "execution_count": 1,
   "metadata": {},
   "outputs": [],
   "source": [
    "import torch"
   ]
  },
  {
   "cell_type": "markdown",
   "metadata": {},
   "source": [
    "### Using PCA for dimension reduction from ~755 to 32 (completed)"
   ]
  },
  {
   "cell_type": "code",
   "execution_count": 3,
   "metadata": {},
   "outputs": [],
   "source": [
    "def dimension_reduction():\n",
    "    x = torch.load('results/X.pt')\n",
    "    # reducing the size of the embedding, using PCA !\n",
    "\n",
    "    from sklearn.decomposition import PCA\n",
    "    n_samples, n_features = x.shape\n",
    "\n",
    "    # Set n_components to be less than or equal to the min(n_samples, n_features)\n",
    "    n_components = min(n_samples, n_features, 32)  # As an example, ensuring it's within bounds\n",
    "\n",
    "    # Initialize and apply PCA\n",
    "    pca = PCA(n_components=n_components)\n",
    "    new_x = pca.fit_transform(x)\n",
    "\n",
    "    torch.save(new_x, 'results/X_32.pt')\n",
    "    new_x.shape\n",
    "\n",
    "dimension_reduction()\n",
    "X_32 = torch.load('results/X_32.pt')"
   ]
  },
  {
   "cell_type": "code",
   "execution_count": 5,
   "metadata": {},
   "outputs": [
    {
     "data": {
      "text/plain": [
       "(24144, 32)"
      ]
     },
     "execution_count": 5,
     "metadata": {},
     "output_type": "execute_result"
    }
   ],
   "source": [
    "X_32.shape"
   ]
  }
 ],
 "metadata": {
  "kernelspec": {
   "display_name": "envGNN",
   "language": "python",
   "name": "python3"
  },
  "language_info": {
   "codemirror_mode": {
    "name": "ipython",
    "version": 3
   },
   "file_extension": ".py",
   "mimetype": "text/x-python",
   "name": "python",
   "nbconvert_exporter": "python",
   "pygments_lexer": "ipython3",
   "version": "3.8.18"
  }
 },
 "nbformat": 4,
 "nbformat_minor": 2
}
