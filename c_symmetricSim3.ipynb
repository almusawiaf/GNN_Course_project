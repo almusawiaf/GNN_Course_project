{
 "cells": [
  {
   "cell_type": "markdown",
   "metadata": {},
   "source": [
    "# Symmetric Similarity Matrices\n",
    "-  Here, we try to find the similarity of the nodes on the diagonal."
   ]
  },
  {
   "cell_type": "code",
   "execution_count": null,
   "metadata": {},
   "outputs": [],
   "source": [
    "import pickle\n",
    "import numpy as np\n",
    "import pandas as pd\n",
    "import networkx as nx \n",
    "import scipy\n",
    "from scipy import sparse\n",
    "from scipy.sparse import dok_matrix, lil_matrix, coo_matrix, csr_matrix"
   ]
  },
  {
   "cell_type": "code",
   "execution_count": null,
   "metadata": {
    "execution": {
     "iopub.execute_input": "2024-02-23T12:24:57.069772Z",
     "iopub.status.busy": "2024-02-23T12:24:57.069635Z",
     "iopub.status.idle": "2024-02-23T12:25:21.754698Z",
     "shell.execute_reply": "2024-02-23T12:25:21.754222Z"
    }
   },
   "outputs": [],
   "source": [
    "G     = nx.read_gml(f'results/the_complete_hetero_graph2.gml')\n",
    "with open('results/Nodes.pkl', 'rb') as file:\n",
    "    Nodes = pickle.load(file)\n",
    "\n",
    "Patients    = [p for p in G.nodes() if p[0]=='C']\n",
    "Visits      = [p for p in G.nodes() if p[0]=='V']\n",
    "Medications = [p for p in G.nodes() if p[0]=='M']\n",
    "Diagnosis   = [p for p in G.nodes() if p[0]=='D']\n",
    "Procedures  = [p for p in G.nodes() if p[0]=='P']\n",
    "\n",
    "C = len(Patients)\n",
    "V = len(Visits)\n",
    "Me = len(Medications)\n",
    "D = len(Diagnosis)\n",
    "P = len(Procedures)\n",
    "t = [C, V, Me, D, P]\n",
    "\n",
    "total = sum([C, V, Me, D, P])\n",
    "print(f'Number of nodes in G = {total}')\n",
    "print(f'Number of nodes in Nodes = {len(Nodes)}')"
   ]
  },
  {
   "cell_type": "code",
   "execution_count": 22,
   "metadata": {
    "execution": {
     "iopub.execute_input": "2024-02-23T12:25:21.783657Z",
     "iopub.status.busy": "2024-02-23T12:25:21.783241Z",
     "iopub.status.idle": "2024-02-23T12:25:22.402728Z",
     "shell.execute_reply": "2024-02-23T12:25:22.402309Z"
    }
   },
   "outputs": [],
   "source": [
    "import os\n",
    "\n",
    "saving_path = 'results/Nodes'\n",
    "\n",
    "# Check if the directory exists, and create it if it doesn't\n",
    "if not os.path.exists(saving_path):\n",
    "    os.makedirs(saving_path)\n",
    "\n",
    "with open(f'{saving_path}/patients.pkl', 'wb') as file:\n",
    "    pickle.dump(Patients, file)\n",
    "\n",
    "with open(f'{saving_path}/visits.pkl', 'wb') as file:\n",
    "    pickle.dump(Visits, file)\n",
    "\n",
    "with open(f'{saving_path}/medication.pkl', 'wb') as file:\n",
    "    pickle.dump(Medications, file)\n",
    "\n",
    "with open(f'{saving_path}/diagnosis.pkl', 'wb') as file:\n",
    "    pickle.dump(Diagnosis, file)\n",
    "\n",
    "with open(f'{saving_path}/procedures.pkl', 'wb') as file:\n",
    "    pickle.dump(Procedures, file)"
   ]
  },
  {
   "cell_type": "code",
   "execution_count": 23,
   "metadata": {
    "execution": {
     "iopub.execute_input": "2024-02-23T12:25:22.404730Z",
     "iopub.status.busy": "2024-02-23T12:25:22.404428Z",
     "iopub.status.idle": "2024-02-23T12:25:27.082860Z",
     "shell.execute_reply": "2024-02-23T12:25:27.082420Z"
    }
   },
   "outputs": [],
   "source": [
    "def get_adjacency_matrix(G, Nodes1, Nodes2):\n",
    "    # Ensure that Nodes1 and Nodes2 are lists or are castable to lists\n",
    "    Nodes1 = list(Nodes1)\n",
    "    Nodes2 = list(Nodes2)\n",
    "    \n",
    "    # Map nodes to indices in the matrix\n",
    "    node_to_index = {node: i for i, node in enumerate(Nodes1 + Nodes2)}\n",
    "    \n",
    "    # Get adjacency matrix in sparse format\n",
    "    sparse_matrix = nx.adjacency_matrix(G, nodelist=Nodes1+Nodes2)\n",
    "    \n",
    "    # Convert to dense format if needed\n",
    "    dense_matrix = sparse_matrix.todense()\n",
    "    \n",
    "    # Extract submatrix corresponding to Nodes1 and Nodes2\n",
    "    W = dense_matrix[:len(Nodes1), len(Nodes1):]\n",
    "    \n",
    "    return np.array(W)\n",
    "\n",
    "def get_adjacency_matrix1(G, Nodes1, Nodes2):\n",
    "    # Ensure that Nodes1 and Nodes2 are lists or are castable to lists\n",
    "    Nodes1 = list(Nodes1)\n",
    "    Nodes2 = list(Nodes2)\n",
    "    \n",
    "    # Get adjacency matrix in sparse format for the union of Nodes1 and Nodes2\n",
    "    sparse_matrix = nx.adjacency_matrix(G, nodelist=Nodes1+Nodes2)\n",
    "    \n",
    "    # Map nodes to their respective indices in the adjacency matrix\n",
    "    node_to_index = {node: i for i, node in enumerate(Nodes1 + Nodes2)}\n",
    "    \n",
    "    # Extract indices for Nodes1 and Nodes2\n",
    "    indices1 = [node_to_index[node] for node in Nodes1 if node in node_to_index]\n",
    "    indices2 = [node_to_index[node] for node in Nodes2 if node in node_to_index]\n",
    "    \n",
    "    # Extract submatrix corresponding to Nodes1 and Nodes2\n",
    "    W = sparse_matrix[indices1, :][:, indices2]\n",
    "    \n",
    "    return W\n",
    "\n",
    "\n",
    "W_cv = get_adjacency_matrix1(G, Patients, Visits)\n",
    "W_vm = get_adjacency_matrix1(G, Visits, Medications)\n",
    "W_vd = get_adjacency_matrix1(G, Visits, Diagnosis)\n",
    "W_vp = get_adjacency_matrix1(G, Visits, Procedures)  \n",
    "\n",
    "del Patients\n",
    "del Visits\n",
    "del Medications\n",
    "del Diagnosis\n",
    "del Procedures\n",
    "\n",
    "\n",
    "# del G_CV\n",
    "# del G_VM\n",
    "# del G_VD\n",
    "# del G_VP"
   ]
  },
  {
   "cell_type": "code",
   "execution_count": 24,
   "metadata": {
    "execution": {
     "iopub.execute_input": "2024-02-23T12:25:27.084993Z",
     "iopub.status.busy": "2024-02-23T12:25:27.084810Z",
     "iopub.status.idle": "2024-02-23T12:25:27.087591Z",
     "shell.execute_reply": "2024-02-23T12:25:27.087235Z"
    }
   },
   "outputs": [
    {
     "name": "stdout",
     "output_type": "stream",
     "text": [
      "<class 'scipy.sparse._arrays.csr_array'>\n",
      "[(10064, 13620), (13620, 364), (13620, 8), (13620, 88)] 24144\n"
     ]
    }
   ],
   "source": [
    "print(type(W_cv))\n",
    "print([a.shape for a in [W_cv, W_vm, W_vd, W_vp]], total)"
   ]
  },
  {
   "cell_type": "code",
   "execution_count": 25,
   "metadata": {
    "execution": {
     "iopub.execute_input": "2024-02-23T12:25:27.089157Z",
     "iopub.status.busy": "2024-02-23T12:25:27.088901Z",
     "iopub.status.idle": "2024-02-23T12:25:27.091419Z",
     "shell.execute_reply": "2024-02-23T12:25:27.091071Z"
    }
   },
   "outputs": [],
   "source": [
    "# def M(W1, W2):\n",
    "#     return np.dot(W1, W2)\n",
    "\n",
    "def M(W1, W2):\n",
    "    # If W1 and W2 are sparse matrices, you can convert them to CSR format\n",
    "    print(f'multiplying {W1.shape} * {W2.shape}...')\n",
    "    W1_csr = csr_matrix(W1)\n",
    "    W2_csr = csr_matrix(W2)\n",
    "\n",
    "    # Perform the multiplication\n",
    "    result = W1_csr.dot(W2_csr)\n",
    "    print(\"Done multiplication...\")\n",
    "    return result"
   ]
  },
  {
   "cell_type": "code",
   "execution_count": 26,
   "metadata": {
    "execution": {
     "iopub.execute_input": "2024-02-23T12:25:27.092978Z",
     "iopub.status.busy": "2024-02-23T12:25:27.092720Z",
     "iopub.status.idle": "2024-02-23T12:25:27.100350Z",
     "shell.execute_reply": "2024-02-23T12:25:27.099983Z"
    }
   },
   "outputs": [
    {
     "name": "stdout",
     "output_type": "stream",
     "text": [
      "multiplying (10064, 13620) * (13620, 364)...\n",
      "Done multiplication...\n",
      "multiplying (10064, 13620) * (13620, 88)...\n",
      "Done multiplication...\n",
      "multiplying (364, 13620) * (13620, 88)...\n",
      "Done multiplication...\n"
     ]
    }
   ],
   "source": [
    "# ------ asymmetric similarities\n",
    "M_CVM = M(W_cv, W_vm)\n",
    "M_CVP = M(W_cv, W_vp)\n",
    "\n",
    "M_MVP = M(W_vm.T, W_vp) # MVP\n",
    "\n",
    "# ********************************************\n",
    "# deleting edges connected to Diagnoses\n",
    "# Diagnoses-medication, \n",
    "# Diagnoses-Procedures,\n",
    "# Diagnoses-Patients\n",
    "\n",
    "# M_CVD = M(W_cv, W_vd)\n",
    "# M_MVD = M(W_vm.T, W_vd) # MVD\n",
    "# M_DVP = M(W_vd.T, W_vp)\n",
    "\n",
    "# ********************************************\n",
    "# equivalent\n",
    "# M_DVM = M(W_vd.T, W_vm) # equivalent to MVD\n",
    "# M_PVM = M(W_vp.T, W_vp) # equivalent to MVP\n",
    "# M_PVD = M(W_vp.T, W_vd) # equivalnet to DVP"
   ]
  },
  {
   "cell_type": "code",
   "execution_count": 27,
   "metadata": {
    "execution": {
     "iopub.execute_input": "2024-02-23T12:25:27.101821Z",
     "iopub.status.busy": "2024-02-23T12:25:27.101627Z",
     "iopub.status.idle": "2024-02-23T12:25:27.103868Z",
     "shell.execute_reply": "2024-02-23T12:25:27.103535Z"
    }
   },
   "outputs": [
    {
     "name": "stdout",
     "output_type": "stream",
     "text": [
      "(10064, 13620) (13620, 364)\n"
     ]
    }
   ],
   "source": [
    "print(W_cv.shape, W_vm.shape)"
   ]
  },
  {
   "cell_type": "code",
   "execution_count": 28,
   "metadata": {
    "execution": {
     "iopub.execute_input": "2024-02-23T12:25:27.105253Z",
     "iopub.status.busy": "2024-02-23T12:25:27.105120Z",
     "iopub.status.idle": "2024-02-23T12:26:30.876709Z",
     "shell.execute_reply": "2024-02-23T12:26:30.876166Z"
    }
   },
   "outputs": [
    {
     "name": "stdout",
     "output_type": "stream",
     "text": [
      "multiplying (13620, 8) * (8, 13620)...\n",
      "Done multiplication...\n",
      "multiplying (13620, 364) * (364, 13620)...\n",
      "Done multiplication...\n",
      "multiplying (13620, 88) * (88, 13620)...\n",
      "Done multiplication...\n",
      "multiplying (10064, 364) * (364, 10064)...\n",
      "Done multiplication...\n",
      "multiplying (10064, 88) * (88, 10064)...\n",
      "Done multiplication...\n",
      "multiplying (364, 13620) * (13620, 364)...\n",
      "Done multiplication...\n",
      "multiplying (364, 88) * (88, 364)...\n",
      "Done multiplication...\n"
     ]
    }
   ],
   "source": [
    "# Symmetric\n",
    "# -------Visits--------\n",
    "M_VDV = M(W_vd, W_vd.T)\n",
    "\n",
    "M_VMV = M(W_vm, W_vm.T)\n",
    "M_VPV = M(W_vp, W_vp.T)\n",
    "\n",
    "# -------Patients--------\n",
    "\n",
    "M_CVMVC = M(M_CVM, M_CVM.T)\n",
    "M_CVPVC = M(M_CVP, M_CVP.T)\n",
    "\n",
    "# -------Medications--------\n",
    "M_MVM = M(W_vm.T, W_vm)\n",
    "\n",
    "M_MVPVM = M(M_MVP, M_MVP.T)\n",
    "\n",
    "\n",
    "# -----  deleted Meta-paths  ------\n",
    "# M_CVDVC = M(M_CVD, M_CVD.T)\n",
    "# M_MVDVM = M(M_MVD, M_MVD.T)\n"
   ]
  },
  {
   "cell_type": "code",
   "execution_count": 29,
   "metadata": {
    "execution": {
     "iopub.execute_input": "2024-02-23T12:26:30.878762Z",
     "iopub.status.busy": "2024-02-23T12:26:30.878508Z",
     "iopub.status.idle": "2024-02-23T12:26:30.918075Z",
     "shell.execute_reply": "2024-02-23T12:26:30.917663Z"
    }
   },
   "outputs": [
    {
     "name": "stdout",
     "output_type": "stream",
     "text": [
      "multiplying (8, 13620) * (13620, 8)...\n",
      "Done multiplication...\n",
      "multiplying (88, 13620) * (13620, 88)...\n",
      "Done multiplication...\n"
     ]
    }
   ],
   "source": [
    "# ----------Diagnosis--------------\n",
    "M_DVD = M(W_vd.T, W_vd)\n",
    "\n",
    "\n",
    "# -------Procedures----------\n",
    "M_PVP = M(W_vp.T, W_vp)\n",
    "\n",
    "# ------ deleted meta-paths -------\n",
    "# M_DVMVD = M(M_DVM, M_DVM.T)\n",
    "# M_DVRVD = M(M_DVP, M_DVP.T)\n",
    "\n",
    "# M_PVMVP = M(M_PVM, M_PVM.T)\n",
    "# M_PVDVP = M(M_PVD, M_PVD.T)"
   ]
  },
  {
   "cell_type": "code",
   "execution_count": 30,
   "metadata": {
    "execution": {
     "iopub.execute_input": "2024-02-23T12:26:30.919625Z",
     "iopub.status.busy": "2024-02-23T12:26:30.919485Z",
     "iopub.status.idle": "2024-02-23T12:26:47.739267Z",
     "shell.execute_reply": "2024-02-23T12:26:47.738868Z"
    }
   },
   "outputs": [
    {
     "name": "stdout",
     "output_type": "stream",
     "text": [
      "[10064, 13620, 364, 8, 88] (10064, 13620)\n",
      "(10064, 13620)\t1\n",
      "(13620, 364)\t1\n",
      "(13620, 8)\t1\n",
      "(13620, 88)\t1\n"
     ]
    }
   ],
   "source": [
    "def norm_max(W):\n",
    "    # Normalizing the array    \n",
    "    max_value = np.max(W)\n",
    "    print(f'{W.shape}\\t{max_value}')\n",
    "    return W / max_value\n",
    "\n",
    "def asymmetric_assign_Coo(W, shift_row, shift_col, t):\n",
    "    # Create a LIL matrix for efficient assignment\n",
    "    newW = lil_matrix((t, t), dtype=np.float32)\n",
    "    \n",
    "    # Find the indices of non-zero elements in W\n",
    "    non_zero_indices = np.nonzero(W)\n",
    "    rows, cols = non_zero_indices\n",
    "\n",
    "    # Iterate over the non-zero elements of W using the indices\n",
    "    for i, j in zip(rows, cols):\n",
    "        value = W[i, j]\n",
    "        # Add the value at the shifted position\n",
    "        newW[shift_row + i, shift_col + j] = value\n",
    "        # Assuming you want a symmetric assignment\n",
    "        newW[shift_col + j, shift_row + i] = value\n",
    "        \n",
    "    return newW\n",
    "\n",
    "# *********************************************************************************************************\n",
    "print(t, W_cv.shape)\n",
    "# *********************************************************************************************************\n",
    "\n",
    "asym = [W_cv ,  W_vm,    W_vd,     W_vp,]\n",
    "dim  = [(0, C) , (C, C+V), (C, C+V+Me), (C, C+V+Me+D)]\n",
    "\n",
    "asym = [norm_max(A) for A in asym]\n",
    "As2 = [asymmetric_assign_Coo(A, dim[i][0], dim[i][1], sum(t)) for i, A in enumerate(asym)]\n",
    "\n",
    "# *********************************************************************************************************\n",
    "del W_cv\n",
    "del W_vm\n",
    "del W_vd\n",
    "del W_vp\n"
   ]
  },
  {
   "cell_type": "code",
   "execution_count": 31,
   "metadata": {
    "execution": {
     "iopub.execute_input": "2024-02-23T12:26:47.741550Z",
     "iopub.status.busy": "2024-02-23T12:26:47.741201Z",
     "iopub.status.idle": "2024-02-23T12:26:52.584048Z",
     "shell.execute_reply": "2024-02-23T12:26:52.583596Z"
    }
   },
   "outputs": [
    {
     "name": "stdout",
     "output_type": "stream",
     "text": [
      "(10064, 364)\t3\n",
      "(10064, 88)\t15\n",
      "(364, 88)\t11\n"
     ]
    }
   ],
   "source": [
    "asym3 = [M_CVM,     M_CVP,        M_MVP]\n",
    "dim3  = [(0, C+V), (0,C+V+Me+D), (C+V, C+V+Me+D)]\n",
    "\n",
    "del M_CVM\n",
    "del M_CVP\n",
    "del M_MVP\n",
    "\n",
    "asym3 = [norm_max(a) for a in asym3]\n",
    "As3 = [asymmetric_assign_Coo(A, dim3[i][0], dim3[i][1], sum(t)) for i, A in enumerate(asym3) ]\n",
    "\n",
    "# M_CVD, (0, C+V+Me), \n",
    "# M_MVD, (C+V, C+V+Me), \n",
    "# M_DVP, (C+V+Me, C+V+Me+D)\n",
    "\n",
    "# del M_MVD\n",
    "# del M_CVD\n",
    "# del M_DVP\n",
    "\n"
   ]
  },
  {
   "cell_type": "code",
   "execution_count": 32,
   "metadata": {
    "execution": {
     "iopub.execute_input": "2024-02-23T12:26:52.586116Z",
     "iopub.status.busy": "2024-02-23T12:26:52.585824Z",
     "iopub.status.idle": "2024-02-23T12:30:48.024651Z",
     "shell.execute_reply": "2024-02-23T12:30:48.024221Z"
    }
   },
   "outputs": [
    {
     "name": "stdout",
     "output_type": "stream",
     "text": [
      "[10064, 13620, 364, 8, 88]\n",
      "0 10064 23684 24048 24056 24144\n",
      "(13620, 13620)\t8\n",
      "(13620, 13620)\t143\n",
      "(13620, 13620)\t21\n",
      "(10064, 10064)\t256\n",
      "(10064, 10064)\t375\n",
      "(364, 364)\t26\n",
      "(364, 364)\t524\n",
      "(8, 8)\t6429\n",
      "(88, 88)\t4936\n"
     ]
    }
   ],
   "source": [
    "def symmetric_assign(W, shift, t):\n",
    "    '''positioning W into the right t place'''\n",
    "    rows = W.shape[0]\n",
    "    cols = W.shape[1]\n",
    "    \n",
    "    newW = np.zeros((t,t))\n",
    "    for i in range(0, rows):\n",
    "        for j in range(0, cols):\n",
    "            newW[i+shift][j+shift] = W[i][j]\n",
    "    return newW\n",
    "\n",
    "def symmetric_assign2(W, shift, t):\n",
    "    '''positioning W into the right t place'''\n",
    "    rows, cols = W.shape\n",
    "    # Initialize a larger matrix with zeros\n",
    "    newW = np.zeros((t, t), dtype=np.float32)\n",
    "    \n",
    "    print(rows, cols, newW.shape)\n",
    "\n",
    "    # Assign W into newW at the specified shift\n",
    "    newW[shift:shift + rows, shift:shift + cols] = W.toarray()\n",
    "\n",
    "    return newW\n",
    "\n",
    "def symmetric_assign_Coo(W, shift, t):\n",
    "    # Create a LIL matrix for efficient assignment\n",
    "    newW = lil_matrix((t, t), dtype=np.float32)\n",
    "    \n",
    "    # Find the indices of non-zero elements in W\n",
    "    non_zero_indices = np.nonzero(W)\n",
    "    rows, cols = non_zero_indices\n",
    "    print(rows, cols)\n",
    "    # Iterate over the non-zero elements of W using the indices\n",
    "    for i, j in zip(rows, cols):\n",
    "        value = W[i, j]\n",
    "        # Add the value at the shifted position\n",
    "        newW[shift + i, shift + j] = value\n",
    "\n",
    "    print(\"symmmetric_assign_Coo is complete...\")\n",
    "    return newW\n",
    "\n",
    "\n",
    "# C --> 0\n",
    "# V --> C\n",
    "# M --> C+V\n",
    "# D --> C+V+Me\n",
    "# P --> C+V+Me+D\n",
    "\n",
    "print(t)\n",
    "print(0, C, C+V, C+V+Me, C+V+Me+D, sum(t))\n",
    "\n",
    "# sym = [M_VDV, M_VMV, M_VPV, M_CVMVC, M_CVDVC, M_CVPVC, M_MVM, M_MVDVM, M_MVPVM, M_DVD,  M_DVMVD, M_DVRVD, M_PVP,    M_PVMVP,  M_PVDVP]\n",
    "# shf = [C    , C    , C    , 0      , 0      , 0      , C+V  , C+V    , C+V    , C+V+Me, C+V+Me,  C+V+Me , C+V+Me+D, C+V+Me+D, C+V+Me+D]\n",
    "\n",
    "# sym = [M_VDV, M_VMV, M_VPV, M_CVMVC, M_CVDVC, M_CVPVC, M_MVM, M_MVDVM, M_MVPVM, M_DVD,  M_DVRVD, M_PVP    ]\n",
    "# shf = [C    , C    , C    , 0      , 0      , 0      , C+V  , C+V    , C+V    , C+V+Me, C+V+Me , C+V+Me+D ]\n",
    "\n",
    "sym = [M_VDV, M_VMV, M_VPV, M_CVMVC, M_CVPVC, M_MVM, M_MVPVM, M_DVD,  M_PVP    ]\n",
    "shf = [C    , C    , C    , 0      , 0      , C+V  , C+V    , C+V+Me, C+V+Me+D ]\n",
    "sym = [norm_max(a) for a in sym]\n",
    "\n"
   ]
  },
  {
   "cell_type": "code",
   "execution_count": 33,
   "metadata": {
    "execution": {
     "iopub.execute_input": "2024-02-23T12:30:48.026554Z",
     "iopub.status.busy": "2024-02-23T12:30:48.026248Z",
     "iopub.status.idle": "2024-02-23T12:31:52.867173Z",
     "shell.execute_reply": "2024-02-23T12:31:52.866644Z"
    }
   },
   "outputs": [
    {
     "name": "stdout",
     "output_type": "stream",
     "text": [
      "13620 13620 (24144, 24144)\n",
      "13620 13620 (24144, 24144)\n",
      "13620 13620 (24144, 24144)\n",
      "10064 10064 (24144, 24144)\n",
      "10064 10064 (24144, 24144)\n",
      "364 364 (24144, 24144)\n",
      "364 364 (24144, 24144)\n",
      "8 8 (24144, 24144)\n",
      "88 88 (24144, 24144)\n"
     ]
    }
   ],
   "source": [
    "del M_CVMVC\n",
    "del M_CVPVC\n",
    "del M_MVM\n",
    "del M_MVPVM\n",
    "del M_DVD\n",
    "del M_PVP\n",
    "\n",
    "# del M_VDV\n",
    "# del M_VMV\n",
    "# del M_VPV\n",
    "# del M_CVDVC\n",
    "# del M_MVDVM\n",
    "# del M_DVMVD\n",
    "# del M_DVRVD\n",
    "# del M_PVMVP\n",
    "# del M_PVDVP\n",
    "\n",
    "# As = [symmetric_assign_Coo(A, shf[i], sum(t)) for i, A in enumerate(sym)]\n",
    "As = [symmetric_assign2(A, shf[i], sum(t)) for i, A in enumerate(sym)]"
   ]
  },
  {
   "cell_type": "code",
   "execution_count": 34,
   "metadata": {
    "execution": {
     "iopub.execute_input": "2024-02-23T12:31:52.869172Z",
     "iopub.status.busy": "2024-02-23T12:31:52.868916Z",
     "iopub.status.idle": "2024-02-23T12:31:54.113203Z",
     "shell.execute_reply": "2024-02-23T12:31:54.112783Z"
    }
   },
   "outputs": [],
   "source": [
    "newAS2 = [a.toarray() for a in As2]\n",
    "newAS3 = [a.toarray() for a in As3]\n"
   ]
  },
  {
   "cell_type": "code",
   "execution_count": 35,
   "metadata": {},
   "outputs": [
    {
     "name": "stdout",
     "output_type": "stream",
     "text": [
      "(24144, 24144)\n",
      "(24144, 24144)\n",
      "(24144, 24144)\n",
      "(24144, 24144)\n",
      "(24144, 24144)\n",
      "(24144, 24144)\n",
      "(24144, 24144)\n",
      "(24144, 24144)\n",
      "(24144, 24144)\n",
      "(24144, 24144)\n",
      "(24144, 24144)\n",
      "(24144, 24144)\n",
      "(24144, 24144)\n",
      "(24144, 24144)\n",
      "(24144, 24144)\n",
      "(24144, 24144)\n"
     ]
    }
   ],
   "source": [
    "for a in As:\n",
    "    print(a.shape)\n",
    "\n",
    "for a in newAS2:\n",
    "    print(a.shape)\n",
    "\n",
    "for a in newAS3:\n",
    "    print(a.shape)\n"
   ]
  },
  {
   "cell_type": "code",
   "execution_count": 36,
   "metadata": {},
   "outputs": [
    {
     "data": {
      "text/plain": [
       "16"
      ]
     },
     "execution_count": 36,
     "metadata": {},
     "output_type": "execute_result"
    }
   ],
   "source": [
    "As.extend(newAS2)\n",
    "As.extend(newAS3)\n",
    "len(As) "
   ]
  },
  {
   "cell_type": "code",
   "execution_count": 37,
   "metadata": {},
   "outputs": [],
   "source": [
    "# The fusing section\n",
    "\n",
    "# Here, we divide each A by its max\n",
    "# and consider the average of A_i.\n",
    "\n",
    "normalized_As = [Ai / Ai.max() for Ai in As]\n",
    "\n",
    "A_final = sum(normalized_As) / len(normalized_As)\n",
    "\n"
   ]
  },
  {
   "cell_type": "code",
   "execution_count": 38,
   "metadata": {},
   "outputs": [
    {
     "name": "stdout",
     "output_type": "stream",
     "text": [
      "0'th matrix saved!\n",
      "1'th matrix saved!\n",
      "2'th matrix saved!\n",
      "3'th matrix saved!\n",
      "4'th matrix saved!\n",
      "5'th matrix saved!\n",
      "6'th matrix saved!\n",
      "7'th matrix saved!\n",
      "8'th matrix saved!\n",
      "9'th matrix saved!\n",
      "10'th matrix saved!\n",
      "11'th matrix saved!\n",
      "12'th matrix saved!\n",
      "13'th matrix saved!\n",
      "14'th matrix saved!\n",
      "15'th matrix saved!\n"
     ]
    }
   ],
   "source": [
    "# Convert each numpy array to a CSR sparse matrix and save it\n",
    "for i, arr in enumerate(As):\n",
    "    sparse_matrix = sparse.csr_matrix(arr)\n",
    "    sparse.save_npz(f\"results/A/sparse_matrix_{i}.npz\", sparse_matrix)\n",
    "    print(f'{i}\\'th matrix saved!')\n",
    "\n",
    "sparse_matrix = sparse.csr_matrix(A_final)\n",
    "sparse.save_npz(f\"results/A/A_final.npz\", sparse_matrix)\n"
   ]
  }
 ],
 "metadata": {
  "kernelspec": {
   "display_name": "Python 3 (ipykernel)",
   "language": "python",
   "name": "python3"
  },
  "language_info": {
   "codemirror_mode": {
    "name": "ipython",
    "version": 3
   },
   "file_extension": ".py",
   "mimetype": "text/x-python",
   "name": "python",
   "nbconvert_exporter": "python",
   "pygments_lexer": "ipython3",
   "version": "3.8.18"
  }
 },
 "nbformat": 4,
 "nbformat_minor": 2
}
